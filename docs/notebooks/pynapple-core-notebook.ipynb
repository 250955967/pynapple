{
 "cells": [
  {
   "cell_type": "markdown",
   "id": "c8b5c358",
   "metadata": {},
   "source": [
    "# Core Tutorial\n",
    "\n",
    "This script will introduce you to the basics of time series handling with pynapple."
   ]
  },
  {
   "cell_type": "code",
   "execution_count": 2,
   "id": "9b08157e",
   "metadata": {},
   "outputs": [],
   "source": [
    "import numpy as np\n",
    "import matplotlib.pyplot as plt\n",
    "import pynapple as nap"
   ]
  },
  {
   "cell_type": "markdown",
   "id": "7ce48c95",
   "metadata": {},
   "source": [
    "## Time series object\n",
    "\n",
    "Let's create a Tsd object with fake data. In this case, every time point is 1 second apart. A Tsd object is a wrapper of pandas series."
   ]
  },
  {
   "cell_type": "code",
   "execution_count": 4,
   "id": "801c8b6b",
   "metadata": {},
   "outputs": [
    {
     "name": "stdout",
     "output_type": "stream",
     "text": [
      "Time (s)\n",
      "0.0     0.589780\n",
      "1.0     0.326939\n",
      "2.0     0.102468\n",
      "3.0     0.421600\n",
      "4.0     0.531665\n",
      "          ...   \n",
      "95.0    0.660078\n",
      "96.0    0.965494\n",
      "97.0    0.122592\n",
      "98.0    0.631948\n",
      "99.0    0.419832\n",
      "Length: 100, dtype: float64\n"
     ]
    }
   ],
   "source": [
    "tsd = nap.Tsd(t = np.arange(100), d = np.random.rand(100), time_units = 's')\n",
    "\n",
    "print(tsd)"
   ]
  },
  {
   "cell_type": "markdown",
   "id": "c450e33c",
   "metadata": {},
   "source": [
    "While the tsd object appears in second, it actually holds the values in microseconds by default. It is possible to switch between seconds, milliseconds and microseconds. Note that when using *as_units*, the returned object is a simple pandas series."
   ]
  },
  {
   "cell_type": "code",
   "execution_count": 8,
   "id": "e6bd1e16",
   "metadata": {},
   "outputs": [
    {
     "name": "stdout",
     "output_type": "stream",
     "text": [
      "Time (ms)\n",
      "0.0        0.589780\n",
      "1000.0     0.326939\n",
      "2000.0     0.102468\n",
      "3000.0     0.421600\n",
      "4000.0     0.531665\n",
      "             ...   \n",
      "95000.0    0.660078\n",
      "96000.0    0.965494\n",
      "97000.0    0.122592\n",
      "98000.0    0.631948\n",
      "99000.0    0.419832\n",
      "Length: 100, dtype: float64\n",
      "Time (us)\n",
      "0           0.589780\n",
      "1000000     0.326939\n",
      "2000000     0.102468\n",
      "3000000     0.421600\n",
      "4000000     0.531665\n",
      "              ...   \n",
      "95000000    0.660078\n",
      "96000000    0.965494\n",
      "97000000    0.122592\n",
      "98000000    0.631948\n",
      "99000000    0.419832\n",
      "Length: 100, dtype: float64\n"
     ]
    }
   ],
   "source": [
    "print(tsd.as_units('ms'))\n",
    "print(tsd.as_units('us'))"
   ]
  },
  {
   "cell_type": "markdown",
   "id": "6c67b9d9",
   "metadata": {},
   "source": [
    "If only timestamps are available, for example spike times, we can construct a Ts object which holds only times. In this case, we generate 10 random spike times between 0 and 100 ms."
   ]
  },
  {
   "cell_type": "code",
   "execution_count": 10,
   "id": "16ac634f",
   "metadata": {},
   "outputs": [
    {
     "name": "stdout",
     "output_type": "stream",
     "text": [
      "Time (s)\n",
      "0.000053   NaN\n",
      "0.018750   NaN\n",
      "0.022492   NaN\n",
      "0.031866   NaN\n",
      "0.037524   NaN\n",
      "0.043755   NaN\n",
      "0.045585   NaN\n",
      "0.069245   NaN\n",
      "0.077722   NaN\n",
      "0.088523   NaN\n",
      "dtype: float64\n"
     ]
    }
   ],
   "source": [
    "ts = nap.Ts(t = np.sort(np.random.uniform(0, 100, 10)), time_units = 'ms')\n",
    "\n",
    "print(ts)"
   ]
  },
  {
   "cell_type": "markdown",
   "id": "3954a05f",
   "metadata": {},
   "source": [
    "If the time series contains multiple columns, we can use a TsdFrame."
   ]
  },
  {
   "cell_type": "code",
   "execution_count": 12,
   "id": "15453f3f",
   "metadata": {},
   "outputs": [
    {
     "name": "stdout",
     "output_type": "stream",
     "text": [
      "                 a         b         c\n",
      "Time (s)                              \n",
      "0.0       0.248641  0.792004  0.089255\n",
      "1.0       0.502755  0.807717  0.912538\n",
      "2.0       0.761824  0.022373  0.210368\n",
      "3.0       0.881189  0.666426  0.316277\n",
      "4.0       0.633466  0.178083  0.965424\n",
      "...            ...       ...       ...\n",
      "95.0      0.102830  0.614337  0.158703\n",
      "96.0      0.356926  0.798900  0.405869\n",
      "97.0      0.084771  0.058427  0.087754\n",
      "98.0      0.269665  0.411934  0.944591\n",
      "99.0      0.358653  0.409465  0.112126\n",
      "\n",
      "[100 rows x 3 columns]\n"
     ]
    }
   ],
   "source": [
    "tsdframe = nap.TsdFrame(t = np.arange(100), d = np.random.rand(100,3), time_units = 's', columns = ['a', 'b', 'c'])\n",
    "\n",
    "print(tsdframe)"
   ]
  },
  {
   "cell_type": "markdown",
   "id": "6ae3af51",
   "metadata": {},
   "source": [
    "## Interval Sets object\n",
    "\n",
    "The [IntervalSet](https://peyrachelab.github.io/pynapple/core.interval_set/) object stores multiple epochs with a common time units. It can then be used to restrict time series to this particular set of epochs."
   ]
  },
  {
   "cell_type": "code",
   "execution_count": 16,
   "id": "7e1f9774",
   "metadata": {},
   "outputs": [
    {
     "name": "stdout",
     "output_type": "stream",
     "text": [
      "   start   end\n",
      "0    0.0   5.0\n",
      "1   10.0  15.0\n",
      "\n",
      "\n",
      "Time (s)\n",
      "1.0     0.326939\n",
      "2.0     0.102468\n",
      "3.0     0.421600\n",
      "4.0     0.531665\n",
      "5.0     0.069164\n",
      "11.0    0.559547\n",
      "12.0    0.439060\n",
      "13.0    0.252566\n",
      "14.0    0.934285\n",
      "15.0    0.415332\n",
      "dtype: float64\n"
     ]
    }
   ],
   "source": [
    "epochs = nap.IntervalSet(start = [0, 10], end = [5, 15], time_units = 's')\n",
    "\n",
    "new_tsd = tsd.restrict(epochs)\n",
    "\n",
    "print(epochs)\n",
    "print('\\n')\n",
    "print(new_tsd)"
   ]
  },
  {
   "cell_type": "markdown",
   "id": "75ec8da5",
   "metadata": {},
   "source": [
    "Multiple operations are available for IntervalSet"
   ]
  }
 ],
 "metadata": {
  "kernelspec": {
   "display_name": "Python 3 (ipykernel)",
   "language": "python",
   "name": "python3"
  },
  "language_info": {
   "codemirror_mode": {
    "name": "ipython",
    "version": 3
   },
   "file_extension": ".py",
   "mimetype": "text/x-python",
   "name": "python",
   "nbconvert_exporter": "python",
   "pygments_lexer": "ipython3",
   "version": "3.8.12"
  }
 },
 "nbformat": 4,
 "nbformat_minor": 5
}
