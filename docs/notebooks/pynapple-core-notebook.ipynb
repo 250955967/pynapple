{
 "cells": [
  {
   "cell_type": "markdown",
   "id": "c8b5c358",
   "metadata": {},
   "source": [
    "# Core Tutorial\n",
    "\n",
    "This script will introduce you to the basics of time series handling with pynapple."
   ]
  },
  {
   "cell_type": "code",
   "execution_count": 1,
   "id": "9b08157e",
   "metadata": {},
   "outputs": [],
   "source": [
    "import numpy as np\n",
    "import matplotlib.pyplot as plt\n",
    "import pynapple as nap\n",
    "import pandas as pd"
   ]
  },
  {
   "cell_type": "markdown",
   "id": "7ce48c95",
   "metadata": {},
   "source": [
    "## Time series object\n",
    "\n",
    "Let's create a Tsd object with fake data. In this case, every time point is 1 second apart. A Tsd object is a wrapper of pandas series."
   ]
  },
  {
   "cell_type": "code",
   "execution_count": 2,
   "id": "801c8b6b",
   "metadata": {},
   "outputs": [
    {
     "name": "stdout",
     "output_type": "stream",
     "text": [
      "Time (s)\n",
      "0.0     0.926051\n",
      "1.0     0.849987\n",
      "2.0     0.034611\n",
      "3.0     0.241067\n",
      "4.0     0.931331\n",
      "          ...   \n",
      "95.0    0.388211\n",
      "96.0    0.219992\n",
      "97.0    0.327807\n",
      "98.0    0.959152\n",
      "99.0    0.416207\n",
      "Length: 100, dtype: float64\n"
     ]
    }
   ],
   "source": [
    "tsd = nap.Tsd(t = np.arange(100), d = np.random.rand(100), time_units = 's')\n",
    "\n",
    "print(tsd)"
   ]
  },
  {
   "cell_type": "markdown",
   "id": "c450e33c",
   "metadata": {},
   "source": [
    "It is possible to switch between seconds, milliseconds and microseconds. Note that when using *as_units*, the returned object is a simple pandas series."
   ]
  },
  {
   "cell_type": "code",
   "execution_count": 3,
   "id": "e6bd1e16",
   "metadata": {},
   "outputs": [
    {
     "name": "stdout",
     "output_type": "stream",
     "text": [
      "Time (ms)\n",
      "0.0        0.926051\n",
      "1000.0     0.849987\n",
      "2000.0     0.034611\n",
      "3000.0     0.241067\n",
      "4000.0     0.931331\n",
      "             ...   \n",
      "95000.0    0.388211\n",
      "96000.0    0.219992\n",
      "97000.0    0.327807\n",
      "98000.0    0.959152\n",
      "99000.0    0.416207\n",
      "Length: 100, dtype: float64\n",
      "Time (us)\n",
      "0           0.926051\n",
      "1000000     0.849987\n",
      "2000000     0.034611\n",
      "3000000     0.241067\n",
      "4000000     0.931331\n",
      "              ...   \n",
      "95000000    0.388211\n",
      "96000000    0.219992\n",
      "97000000    0.327807\n",
      "98000000    0.959152\n",
      "99000000    0.416207\n",
      "Length: 100, dtype: float64\n"
     ]
    }
   ],
   "source": [
    "print(tsd.as_units('ms'))\n",
    "print(tsd.as_units('us'))"
   ]
  },
  {
   "cell_type": "markdown",
   "id": "6c67b9d9",
   "metadata": {},
   "source": [
    "If only timestamps are available, for example spike times, we can construct a Ts object which holds only times. In this case, we generate 10 random spike times between 0 and 100 ms."
   ]
  },
  {
   "cell_type": "code",
   "execution_count": 4,
   "id": "16ac634f",
   "metadata": {},
   "outputs": [
    {
     "name": "stdout",
     "output_type": "stream",
     "text": [
      "Time (s)\n",
      "0.000332   NaN\n",
      "0.007557   NaN\n",
      "0.015512   NaN\n",
      "0.017357   NaN\n",
      "0.019130   NaN\n",
      "0.036301   NaN\n",
      "0.052718   NaN\n",
      "0.068055   NaN\n",
      "0.079949   NaN\n",
      "0.099882   NaN\n",
      "dtype: float64\n"
     ]
    }
   ],
   "source": [
    "ts = nap.Ts(t = np.sort(np.random.uniform(0, 100, 10)), time_units = 'ms')\n",
    "\n",
    "print(ts)"
   ]
  },
  {
   "cell_type": "markdown",
   "id": "3954a05f",
   "metadata": {},
   "source": [
    "If the time series contains multiple columns, we can use a TsdFrame."
   ]
  },
  {
   "cell_type": "code",
   "execution_count": 5,
   "id": "15453f3f",
   "metadata": {},
   "outputs": [
    {
     "name": "stdout",
     "output_type": "stream",
     "text": [
      "                 a         b         c\n",
      "Time (s)                              \n",
      "0.0       0.710777  0.045811  0.419415\n",
      "1.0       0.010244  0.496336  0.253601\n",
      "2.0       0.075987  0.079342  0.714916\n",
      "3.0       0.195139  0.773036  0.518782\n",
      "4.0       0.021775  0.313341  0.819941\n",
      "...            ...       ...       ...\n",
      "95.0      0.603578  0.319764  0.984949\n",
      "96.0      0.788123  0.534558  0.886920\n",
      "97.0      0.957802  0.675862  0.140417\n",
      "98.0      0.393128  0.887271  0.061764\n",
      "99.0      0.196731  0.357804  0.517005\n",
      "\n",
      "[100 rows x 3 columns]\n"
     ]
    }
   ],
   "source": [
    "tsdframe = nap.TsdFrame(t = np.arange(100), \n",
    "                        d = np.random.rand(100,3), \n",
    "                        time_units = 's', \n",
    "                        columns = ['a', 'b', 'c'])\n",
    "\n",
    "print(tsdframe)"
   ]
  },
  {
   "cell_type": "markdown",
   "id": "6ae3af51",
   "metadata": {},
   "source": [
    "## Interval Sets object\n",
    "\n",
    "The [IntervalSet](https://peyrachelab.github.io/pynapple/core.interval_set/) object stores multiple epochs with a common time units. It can then be used to restrict time series to this particular set of epochs."
   ]
  },
  {
   "cell_type": "code",
   "execution_count": 6,
   "id": "7e1f9774",
   "metadata": {},
   "outputs": [
    {
     "name": "stdout",
     "output_type": "stream",
     "text": [
      "   start   end\n",
      "0    0.0   5.0\n",
      "1   10.0  15.0\n",
      "\n",
      "\n",
      "Time (s)\n",
      "0.0     0.926051\n",
      "1.0     0.849987\n",
      "2.0     0.034611\n",
      "3.0     0.241067\n",
      "4.0     0.931331\n",
      "5.0     0.287283\n",
      "10.0    0.603891\n",
      "11.0    0.336611\n",
      "12.0    0.631118\n",
      "13.0    0.343460\n",
      "14.0    0.608318\n",
      "15.0    0.000967\n",
      "dtype: float64\n"
     ]
    }
   ],
   "source": [
    "epochs = nap.IntervalSet(start = [0, 10], end = [5, 15], time_units = 's')\n",
    "\n",
    "new_tsd = tsd.restrict(epochs)\n",
    "\n",
    "print(epochs)\n",
    "print('\\n')\n",
    "print(new_tsd)"
   ]
  },
  {
   "cell_type": "markdown",
   "id": "75ec8da5",
   "metadata": {},
   "source": [
    "Multiple operations are available for IntervalSet. For example, IntervalSet can be merged. See the full documentation of the class [here](https://peyrachelab.github.io/pynapple/core.interval_set/#pynapple.core.interval_set.IntervalSet.intersect) for a list of all the functions that can be used to manipulate IntervalSets."
   ]
  },
  {
   "cell_type": "code",
   "execution_count": 7,
   "id": "cc574b46",
   "metadata": {},
   "outputs": [
    {
     "name": "stdout",
     "output_type": "stream",
     "text": [
      "   start   end\n",
      "0    0.0  10.0 \n",
      "\n",
      "   start   end\n",
      "0    5.0  20.0\n",
      "1   30.0  45.0 \n",
      "\n",
      "   start   end\n",
      "0    0.0  20.0\n",
      "1   30.0  45.0\n"
     ]
    }
   ],
   "source": [
    "epoch1 = nap.IntervalSet(start=[0], end=[10]) # no time units passed. Default is us.\n",
    "epoch2 = nap.IntervalSet(start=[5,30],end=[20,45])\n",
    "\n",
    "epoch = epoch1.union(epoch2)\n",
    "print(epoch1, '\\n')\n",
    "print(epoch2, '\\n')\n",
    "print(epoch)"
   ]
  },
  {
   "cell_type": "markdown",
   "id": "78d7825c",
   "metadata": {},
   "source": [
    "## TsGroup\n",
    "\n",
    "Multiple time series with different time stamps (.i.e. a group of neurons with different spike times from one session) can be grouped with the TsGroup object. The TsGroup behaves like a dictionnary but it is also possible to slice with a list of indexes"
   ]
  },
  {
   "cell_type": "code",
   "execution_count": 8,
   "id": "1af22381",
   "metadata": {},
   "outputs": [
    {
     "name": "stdout",
     "output_type": "stream",
     "text": [
      "  Index    Freq. (Hz)\n",
      "-------  ------------\n",
      "      0         10\n",
      "      1         20.01\n",
      "      2         30.01 \n",
      "\n",
      "Time (s)\n",
      "0.019797    NaN\n",
      "0.451827    NaN\n",
      "0.464079    NaN\n",
      "0.465697    NaN\n",
      "0.517745    NaN\n",
      "             ..\n",
      "99.468552   NaN\n",
      "99.492707   NaN\n",
      "99.520110   NaN\n",
      "99.849291   NaN\n",
      "99.993950   NaN\n",
      "Length: 1000, dtype: float64 \n",
      "\n",
      "  Index    Freq. (Hz)\n",
      "-------  ------------\n",
      "      0         10\n",
      "      2         30.01\n"
     ]
    }
   ],
   "source": [
    "my_ts = {0:nap.Ts(t = np.sort(np.random.uniform(0, 100, 1000)), time_units = 's'), # here a simple dictionnary\n",
    "         1:nap.Ts(t = np.sort(np.random.uniform(0, 100, 2000)), time_units = 's'),\n",
    "         2:nap.Ts(t = np.sort(np.random.uniform(0, 100, 3000)), time_units = 's')}\n",
    "\n",
    "tsgroup = nap.TsGroup(my_ts)\n",
    "\n",
    "print(tsgroup, '\\n')\n",
    "print(tsgroup[0], '\\n') # dictionnary like indexing returns directly the Ts object\n",
    "print(tsgroup[[0,2]]) # list like indexing"
   ]
  },
  {
   "cell_type": "markdown",
   "id": "b66aa481",
   "metadata": {},
   "source": [
    "Operations such as restrict can thus be directly applied to the TsGroup as well as other operations."
   ]
  },
  {
   "cell_type": "code",
   "execution_count": 9,
   "id": "6b83a840",
   "metadata": {},
   "outputs": [
    {
     "name": "stdout",
     "output_type": "stream",
     "text": [
      "           0   1   2\n",
      "Time (s)            \n",
      "0.5        7  15  29\n",
      "1.5       13  14  36\n",
      "2.5        8  19  32\n",
      "3.5        8  15  23\n",
      "4.5       11  17  36\n",
      "10.5      15  19  34\n",
      "11.5      14  26  20\n",
      "12.5      11  19  41\n",
      "13.5      13  20  27\n",
      "14.5       9  24  40\n"
     ]
    }
   ],
   "source": [
    "newtsgroup = tsgroup.restrict(epochs)\n",
    "\n",
    "count = tsgroup.count(1, epochs, time_units='s') # Here counting the elements within bins of 1 seconds\n",
    "\n",
    "print(count)"
   ]
  },
  {
   "cell_type": "markdown",
   "id": "b902a51c",
   "metadata": {},
   "source": [
    "One advantage of grouping time series is that metainformation can be added about each elements. In this case, we add labels to each Ts object when instantiating the group and after. We can then use this label to split the group. See the documentation about [TsGroup](https://peyrachelab.github.io/pynapple/core.ts_group/) for all the ways to split TsGroup."
   ]
  },
  {
   "cell_type": "code",
   "execution_count": 10,
   "id": "bf49504e",
   "metadata": {},
   "outputs": [
    {
     "name": "stdout",
     "output_type": "stream",
     "text": [
      "  Index    Freq. (Hz)    label1  label2\n",
      "-------  ------------  --------  --------\n",
      "      0         10            0  a\n",
      "      1         20.01         1  a\n",
      "      2         30.01         0  b \n",
      "\n",
      "  Index    Freq. (Hz)    label1  label2\n",
      "-------  ------------  --------  --------\n",
      "      0         10            0  a\n",
      "      2         30.01         0  b \n",
      "\n",
      "  Index    Freq. (Hz)    label1  label2\n",
      "-------  ------------  --------  --------\n",
      "      1         20.01         1  a\n"
     ]
    }
   ],
   "source": [
    "label1 = pd.Series(index=list(my_ts.keys()), data = [0,1,0])\n",
    "\n",
    "tsgroup = nap.TsGroup(my_ts, time_units = 's', label1=label1)\n",
    "tsgroup.set_info(label2=np.array(['a', 'a', 'b']))\n",
    "\n",
    "print(tsgroup, '\\n')\n",
    "\n",
    "newtsgroup= tsgroup.getby_category('label1')\n",
    "print(newtsgroup[0], '\\n')\n",
    "print(newtsgroup[1])\n"
   ]
  },
  {
   "cell_type": "markdown",
   "id": "dd8caa78",
   "metadata": {},
   "source": [
    "## Time support\n",
    "\n",
    "A key element of the manipulation of time series by pynapple is the inherent time support defined for Ts, Tsd, TsdFrame and TsGroup objects. The time support is defined as an IntervalSet that provides the time serie with a context. For example,, the restrict operation will update automatically the time support to the new time series. Ideally the time support should be defined for all time series when instantiating them. If no time series is given, the time support is inferred from the start and end of the time series. \n",
    "\n",
    "In this example, a TsGroup is instantiated with and without a time support. Notice how the frequency of each Ts element is changed when the time support is defined explicitely."
   ]
  },
  {
   "cell_type": "code",
   "execution_count": 11,
   "id": "4535cf64",
   "metadata": {},
   "outputs": [
    {
     "name": "stdout",
     "output_type": "stream",
     "text": [
      "  Index    Freq. (Hz)\n",
      "-------  ------------\n",
      "      0          0.1\n",
      "      1          0.2\n",
      "      2          0.31 \n",
      "\n",
      "  Index    Freq. (Hz)\n",
      "-------  ------------\n",
      "      0          0.05\n",
      "      1          0.1\n",
      "      2          0.15 \n",
      "\n",
      "   start    end\n",
      "0    0.0  200.0\n"
     ]
    }
   ],
   "source": [
    "time_support = nap.IntervalSet(start = 0, end = 200, time_units = 's')\n",
    "\n",
    "my_ts = {0:nap.Ts(t = np.sort(np.random.uniform(0, 100, 10)), time_units = 's'), # here a simple dictionnary\n",
    "         1:nap.Ts(t = np.sort(np.random.uniform(0, 100, 20)), time_units = 's'),\n",
    "         2:nap.Ts(t = np.sort(np.random.uniform(0, 100, 30)), time_units = 's')}\n",
    "\n",
    "tsgroup = nap.TsGroup(my_ts)\n",
    "\n",
    "tsgroup_with_time_support = nap.TsGroup(my_ts, time_support = time_support)\n",
    "\n",
    "print(tsgroup, '\\n')\n",
    "\n",
    "print(tsgroup_with_time_support, '\\n')\n",
    "\n",
    "print(tsgroup_with_time_support.time_support) # acceding the time support"
   ]
  }
 ],
 "metadata": {
  "kernelspec": {
   "display_name": "Python 3 (ipykernel)",
   "language": "python",
   "name": "python3"
  },
  "language_info": {
   "codemirror_mode": {
    "name": "ipython",
    "version": 3
   },
   "file_extension": ".py",
   "mimetype": "text/x-python",
   "name": "python",
   "nbconvert_exporter": "python",
   "pygments_lexer": "ipython3",
   "version": "3.8.12"
  }
 },
 "nbformat": 4,
 "nbformat_minor": 5
}
