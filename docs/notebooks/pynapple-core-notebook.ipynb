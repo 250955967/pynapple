{
 "cells": [
  {
   "cell_type": "markdown",
   "id": "c8b5c358",
   "metadata": {},
   "source": [
    "# Core Tutorial\n",
    "\n",
    "This script will introduce you to the basics of time series handling with pynapple."
   ]
  },
  {
   "cell_type": "code",
   "execution_count": 1,
   "id": "9b08157e",
   "metadata": {},
   "outputs": [],
   "source": [
    "import numpy as np\n",
    "import matplotlib.pyplot as plt\n",
    "import pynapple as nap"
   ]
  },
  {
   "cell_type": "markdown",
   "id": "7ce48c95",
   "metadata": {},
   "source": [
    "## Time series object\n",
    "\n",
    "Let's create a Tsd object with fake data. In this case, every time point is 1 second apart. A Tsd object is a wrapper of pandas series."
   ]
  },
  {
   "cell_type": "code",
   "execution_count": 2,
   "id": "801c8b6b",
   "metadata": {},
   "outputs": [
    {
     "name": "stdout",
     "output_type": "stream",
     "text": [
      "Time (s)\n",
      "0.0     0.350383\n",
      "1.0     0.112004\n",
      "2.0     0.559038\n",
      "3.0     0.883592\n",
      "4.0     0.783561\n",
      "          ...   \n",
      "95.0    0.989078\n",
      "96.0    0.240785\n",
      "97.0    0.127436\n",
      "98.0    0.936579\n",
      "99.0    0.575566\n",
      "Length: 100, dtype: float64\n"
     ]
    }
   ],
   "source": [
    "tsd = nap.Tsd(t = np.arange(100), d = np.random.rand(100), time_units = 's')\n",
    "\n",
    "print(tsd)"
   ]
  },
  {
   "cell_type": "markdown",
   "id": "c450e33c",
   "metadata": {},
   "source": [
    "It is possible to switch between seconds, milliseconds and microseconds. Note that when using *as_units*, the returned object is a simple pandas series."
   ]
  },
  {
   "cell_type": "code",
   "execution_count": 3,
   "id": "e6bd1e16",
   "metadata": {},
   "outputs": [
    {
     "name": "stdout",
     "output_type": "stream",
     "text": [
      "Time (ms)\n",
      "0.0        0.350383\n",
      "1000.0     0.112004\n",
      "2000.0     0.559038\n",
      "3000.0     0.883592\n",
      "4000.0     0.783561\n",
      "             ...   \n",
      "95000.0    0.989078\n",
      "96000.0    0.240785\n",
      "97000.0    0.127436\n",
      "98000.0    0.936579\n",
      "99000.0    0.575566\n",
      "Length: 100, dtype: float64\n",
      "Time (us)\n",
      "0           0.350383\n",
      "1000000     0.112004\n",
      "2000000     0.559038\n",
      "3000000     0.883592\n",
      "4000000     0.783561\n",
      "              ...   \n",
      "95000000    0.989078\n",
      "96000000    0.240785\n",
      "97000000    0.127436\n",
      "98000000    0.936579\n",
      "99000000    0.575566\n",
      "Length: 100, dtype: float64\n"
     ]
    }
   ],
   "source": [
    "print(tsd.as_units('ms'))\n",
    "print(tsd.as_units('us'))"
   ]
  },
  {
   "cell_type": "markdown",
   "id": "6c67b9d9",
   "metadata": {},
   "source": [
    "If only timestamps are available, for example spike times, we can construct a Ts object which holds only times. In this case, we generate 10 random spike times between 0 and 100 ms."
   ]
  },
  {
   "cell_type": "code",
   "execution_count": 4,
   "id": "16ac634f",
   "metadata": {},
   "outputs": [
    {
     "name": "stdout",
     "output_type": "stream",
     "text": [
      "Time (s)\n",
      "0.019642   NaN\n",
      "0.023977   NaN\n",
      "0.032920   NaN\n",
      "0.047616   NaN\n",
      "0.048708   NaN\n",
      "0.076251   NaN\n",
      "0.087913   NaN\n",
      "0.092497   NaN\n",
      "0.095161   NaN\n",
      "0.099498   NaN\n",
      "dtype: float64\n"
     ]
    }
   ],
   "source": [
    "ts = nap.Ts(t = np.sort(np.random.uniform(0, 100, 10)), time_units = 'ms')\n",
    "\n",
    "print(ts)"
   ]
  },
  {
   "cell_type": "markdown",
   "id": "3954a05f",
   "metadata": {},
   "source": [
    "If the time series contains multiple columns, we can use a TsdFrame."
   ]
  },
  {
   "cell_type": "code",
   "execution_count": 5,
   "id": "15453f3f",
   "metadata": {},
   "outputs": [
    {
     "name": "stdout",
     "output_type": "stream",
     "text": [
      "                 a         b         c\n",
      "Time (s)                              \n",
      "0.0       0.357438  0.647921  0.982669\n",
      "1.0       0.442921  0.162486  0.750832\n",
      "2.0       0.283657  0.602511  0.322299\n",
      "3.0       0.069515  0.987253  0.396827\n",
      "4.0       0.244561  0.943814  0.540749\n",
      "...            ...       ...       ...\n",
      "95.0      0.476016  0.777918  0.518801\n",
      "96.0      0.927694  0.129702  0.389647\n",
      "97.0      0.820231  0.992514  0.589118\n",
      "98.0      0.570093  0.897525  0.099027\n",
      "99.0      0.937407  0.545003  0.032018\n",
      "\n",
      "[100 rows x 3 columns]\n"
     ]
    }
   ],
   "source": [
    "tsdframe = nap.TsdFrame(t = np.arange(100), \n",
    "                        d = np.random.rand(100,3), \n",
    "                        time_units = 's', \n",
    "                        columns = ['a', 'b', 'c'])\n",
    "\n",
    "print(tsdframe)"
   ]
  },
  {
   "cell_type": "markdown",
   "id": "6ae3af51",
   "metadata": {},
   "source": [
    "## Interval Sets object\n",
    "\n",
    "The [IntervalSet](https://peyrachelab.github.io/pynapple/core.interval_set/) object stores multiple epochs with a common time units. It can then be used to restrict time series to this particular set of epochs."
   ]
  },
  {
   "cell_type": "code",
   "execution_count": 6,
   "id": "7e1f9774",
   "metadata": {},
   "outputs": [
    {
     "name": "stdout",
     "output_type": "stream",
     "text": [
      "   start   end\n",
      "0    0.0   5.0\n",
      "1   10.0  15.0\n",
      "\n",
      "\n",
      "Time (s)\n",
      "0.0     0.350383\n",
      "1.0     0.112004\n",
      "2.0     0.559038\n",
      "3.0     0.883592\n",
      "4.0     0.783561\n",
      "5.0     0.367693\n",
      "10.0    0.679473\n",
      "11.0    0.181329\n",
      "12.0    0.116674\n",
      "13.0    0.107616\n",
      "14.0    0.449670\n",
      "15.0    0.579260\n",
      "dtype: float64\n"
     ]
    }
   ],
   "source": [
    "epochs = nap.IntervalSet(start = [0, 10], end = [5, 15], time_units = 's')\n",
    "\n",
    "new_tsd = tsd.restrict(epochs)\n",
    "\n",
    "print(epochs)\n",
    "print('\\n')\n",
    "print(new_tsd)"
   ]
  },
  {
   "cell_type": "markdown",
   "id": "75ec8da5",
   "metadata": {},
   "source": [
    "Multiple operations are available for IntervalSet. For example, IntervalSet can be merged. See the full documentation of the class [here](https://peyrachelab.github.io/pynapple/core.interval_set/#pynapple.core.interval_set.IntervalSet.intersect) for a list of all the functions that can be used to manipulate IntervalSets."
   ]
  },
  {
   "cell_type": "code",
   "execution_count": 7,
   "id": "cc574b46",
   "metadata": {},
   "outputs": [
    {
     "name": "stdout",
     "output_type": "stream",
     "text": [
      "   start   end\n",
      "0    0.0  10.0 \n",
      "\n",
      "   start   end\n",
      "0    5.0  20.0\n",
      "1   30.0  45.0 \n",
      "\n",
      "   start   end\n",
      "0    0.0  20.0\n",
      "1   30.0  45.0\n"
     ]
    }
   ],
   "source": [
    "epoch1 = nap.IntervalSet(start=[0], end=[10]) # no time units passed. Default is us.\n",
    "epoch2 = nap.IntervalSet(start=[5,30],end=[20,45])\n",
    "\n",
    "epoch = epoch1.union(epoch2)\n",
    "print(epoch1, '\\n')\n",
    "print(epoch2, '\\n')\n",
    "print(epoch)"
   ]
  },
  {
   "cell_type": "markdown",
   "id": "78d7825c",
   "metadata": {},
   "source": [
    "## TsGroup\n",
    "\n",
    "Multiple time series with different time stamps (.i.e. a group of neurons with different spike times from one session) can be grouped with the TsGroup object. The TsGroup behaves like a dictionnary but it is also possible to slice with a list of indexes"
   ]
  },
  {
   "cell_type": "code",
   "execution_count": 8,
   "id": "1af22381",
   "metadata": {},
   "outputs": [
    {
     "name": "stdout",
     "output_type": "stream",
     "text": [
      "  Index    Freq. (Hz)\n",
      "-------  ------------\n",
      "      0            10\n",
      "      1            20\n",
      "      2            30 \n",
      "\n",
      "Time (s)\n",
      "0.003141    NaN\n",
      "0.067542    NaN\n",
      "0.152387    NaN\n",
      "0.360369    NaN\n",
      "0.452814    NaN\n",
      "             ..\n",
      "99.467991   NaN\n",
      "99.611809   NaN\n",
      "99.647528   NaN\n",
      "99.819072   NaN\n",
      "99.912819   NaN\n",
      "Length: 1000, dtype: float64 \n",
      "\n",
      "  Index    Freq. (Hz)\n",
      "-------  ------------\n",
      "      0            10\n",
      "      2            30\n"
     ]
    }
   ],
   "source": [
    "my_ts = {0:nap.Ts(t = np.sort(np.random.uniform(0, 100, 1000)), time_units = 's'), # here a simple dictionnary\n",
    "         1:nap.Ts(t = np.sort(np.random.uniform(0, 100, 2000)), time_units = 's'),\n",
    "         2:nap.Ts(t = np.sort(np.random.uniform(0, 100, 3000)), time_units = 's')}\n",
    "\n",
    "tsgroup = nap.TsGroup(my_ts)\n",
    "\n",
    "print(tsgroup, '\\n')\n",
    "print(tsgroup[0], '\\n') # dictionnary like indexing returns directly the Ts object\n",
    "print(tsgroup[[0,2]]) # list like indexing"
   ]
  },
  {
   "cell_type": "markdown",
   "id": "b66aa481",
   "metadata": {},
   "source": [
    "Operations such as restrict can thus be directly applied to the TsGroup as well as other operations."
   ]
  },
  {
   "cell_type": "code",
   "execution_count": 9,
   "id": "6b83a840",
   "metadata": {},
   "outputs": [
    {
     "name": "stdout",
     "output_type": "stream",
     "text": [
      "           0   1   2\n",
      "Time (s)            \n",
      "0.0        7  14  28\n",
      "1.0       10  27  36\n",
      "2.0       10  15  38\n",
      "3.0       14  19  31\n",
      "4.0       10  22  30\n",
      "10.0       4  21  37\n",
      "11.0       8  20  30\n",
      "12.0       6  20  27\n",
      "13.0      15  18  32\n",
      "14.0       7  19  29\n"
     ]
    }
   ],
   "source": [
    "newtsgroup = tsgroup.restrict(epochs)\n",
    "\n",
    "count = tsgroup.count(1, epochs, time_units='s') # Here counting the elements within bins of 1 seconds\n",
    "\n",
    "print(count)"
   ]
  },
  {
   "cell_type": "markdown",
   "id": "b902a51c",
   "metadata": {},
   "source": [
    "One advantage of grouping time series is that metainformation can be added about each elements. In this case, we add labels to each Ts object when instantiating the group and after. We can then use this label to split the group. See the documentation about [TsGroup](https://peyrachelab.github.io/pynapple/core.ts_group/) for all the ways to split TsGroup."
   ]
  },
  {
   "cell_type": "code",
   "execution_count": 10,
   "id": "bf49504e",
   "metadata": {},
   "outputs": [
    {
     "name": "stdout",
     "output_type": "stream",
     "text": [
      "  Index    Freq. (Hz)    label1  label2\n",
      "-------  ------------  --------  --------\n",
      "      0            10         0  a\n",
      "      1            20         1  a\n",
      "      2            30         0  b \n",
      "\n",
      "  Index    Freq. (Hz)    label1  label2\n",
      "-------  ------------  --------  --------\n",
      "      0            10         0  a\n",
      "      2            30         0  b \n",
      "\n",
      "  Index    Freq. (Hz)    label1  label2\n",
      "-------  ------------  --------  --------\n",
      "      1            20         1  a\n"
     ]
    }
   ],
   "source": [
    "tsgroup = nap.TsGroup(my_ts, time_units = 's', label1=[0,1,0])\n",
    "tsgroup.set_info(label2=['a', 'a', 'b'])\n",
    "\n",
    "print(tsgroup, '\\n')\n",
    "\n",
    "newtsgroup= tsgroup.getby_category('label1')\n",
    "print(newtsgroup[0], '\\n')\n",
    "print(newtsgroup[1])\n"
   ]
  },
  {
   "cell_type": "markdown",
   "id": "dd8caa78",
   "metadata": {},
   "source": [
    "## Time support\n",
    "\n",
    "A key element of the manipulation of time series by pynapple is the inherent time support defined for Ts, Tsd, TsdFrame and TsGroup objects. The time support is defined as an IntervalSet that provides the time serie with a context. For example,, the restrict operation will update automatically the time support to the new time series. Ideally the time support should be defined for all time series when instantiating them. If no time series is given, the time support is inferred from the start and end of the time series. \n",
    "\n",
    "In this example, a TsGroup is instantiated with and without a time support. Notice how the frequency of each Ts element is changed when the time support is defined explicitely."
   ]
  },
  {
   "cell_type": "code",
   "execution_count": 11,
   "id": "4535cf64",
   "metadata": {},
   "outputs": [
    {
     "name": "stdout",
     "output_type": "stream",
     "text": [
      "  Index    Freq. (Hz)\n",
      "-------  ------------\n",
      "      0          0.1\n",
      "      1          0.2\n",
      "      2          0.31 \n",
      "\n",
      "  Index    Freq. (Hz)\n",
      "-------  ------------\n",
      "      0          0.05\n",
      "      1          0.1\n",
      "      2          0.15 \n",
      "\n",
      "   start    end\n",
      "0    0.0  200.0\n"
     ]
    }
   ],
   "source": [
    "time_support = nap.IntervalSet(start = 0, end = 200, time_units = 's')\n",
    "\n",
    "my_ts = {0:nap.Ts(t = np.sort(np.random.uniform(0, 100, 10)), time_units = 's'), # here a simple dictionnary\n",
    "         1:nap.Ts(t = np.sort(np.random.uniform(0, 100, 20)), time_units = 's'),\n",
    "         2:nap.Ts(t = np.sort(np.random.uniform(0, 100, 30)), time_units = 's')}\n",
    "\n",
    "tsgroup = nap.TsGroup(my_ts)\n",
    "\n",
    "tsgroup_with_time_support = nap.TsGroup(my_ts, time_support = time_support)\n",
    "\n",
    "print(tsgroup, '\\n')\n",
    "\n",
    "print(tsgroup_with_time_support, '\\n')\n",
    "\n",
    "print(tsgroup_with_time_support.time_support) # acceding the time support"
   ]
  }
 ],
 "metadata": {
  "kernelspec": {
   "display_name": "Python 3 (ipykernel)",
   "language": "python",
   "name": "python3"
  },
  "language_info": {
   "codemirror_mode": {
    "name": "ipython",
    "version": 3
   },
   "file_extension": ".py",
   "mimetype": "text/x-python",
   "name": "python",
   "nbconvert_exporter": "python",
   "pygments_lexer": "ipython3",
   "version": "3.8.12"
  }
 },
 "nbformat": 4,
 "nbformat_minor": 5
}
