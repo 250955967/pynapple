{
 "cells": [
  {
   "cell_type": "markdown",
   "id": "c8b5c358",
   "metadata": {},
   "source": [
    "# Core Tutorial\n",
    "\n",
    "This script will introduce you to the basics of time series handling with pynapple."
   ]
  },
  {
   "cell_type": "code",
   "execution_count": 1,
   "id": "9b08157e",
   "metadata": {},
   "outputs": [],
   "source": [
    "import numpy as np\n",
    "import matplotlib.pyplot as plt\n",
    "import pynapple as nap"
   ]
  },
  {
   "cell_type": "markdown",
   "id": "7ce48c95",
   "metadata": {},
   "source": [
    "## Time series object\n",
    "\n",
    "Let's create a Tsd object with fake data. In this case, every time point is 1 second apart. A Tsd object is a wrapper of pandas series."
   ]
  },
  {
   "cell_type": "code",
   "execution_count": 2,
   "id": "801c8b6b",
   "metadata": {},
   "outputs": [
    {
     "name": "stdout",
     "output_type": "stream",
     "text": [
      "Time (s)\n",
      "0.0     0.671375\n",
      "1.0     0.184115\n",
      "2.0     0.745202\n",
      "3.0     0.041667\n",
      "4.0     0.844270\n",
      "          ...   \n",
      "95.0    0.224841\n",
      "96.0    0.011205\n",
      "97.0    0.904223\n",
      "98.0    0.330948\n",
      "99.0    0.288449\n",
      "Length: 100, dtype: float64\n"
     ]
    }
   ],
   "source": [
    "tsd = nap.Tsd(t = np.arange(100), d = np.random.rand(100), time_units = 's')\n",
    "\n",
    "print(tsd)"
   ]
  },
  {
   "cell_type": "markdown",
   "id": "c450e33c",
   "metadata": {},
   "source": [
    "While the tsd object appears in second, it actually holds the values in microseconds by default. It is possible to switch between seconds, milliseconds and microseconds. Note that when using *as_units*, the returned object is a simple pandas series."
   ]
  },
  {
   "cell_type": "code",
   "execution_count": 3,
   "id": "e6bd1e16",
   "metadata": {},
   "outputs": [
    {
     "name": "stdout",
     "output_type": "stream",
     "text": [
      "Time (ms)\n",
      "0.0        0.671375\n",
      "1000.0     0.184115\n",
      "2000.0     0.745202\n",
      "3000.0     0.041667\n",
      "4000.0     0.844270\n",
      "             ...   \n",
      "95000.0    0.224841\n",
      "96000.0    0.011205\n",
      "97000.0    0.904223\n",
      "98000.0    0.330948\n",
      "99000.0    0.288449\n",
      "Length: 100, dtype: float64\n",
      "Time (us)\n",
      "0           0.671375\n",
      "1000000     0.184115\n",
      "2000000     0.745202\n",
      "3000000     0.041667\n",
      "4000000     0.844270\n",
      "              ...   \n",
      "95000000    0.224841\n",
      "96000000    0.011205\n",
      "97000000    0.904223\n",
      "98000000    0.330948\n",
      "99000000    0.288449\n",
      "Length: 100, dtype: float64\n"
     ]
    }
   ],
   "source": [
    "print(tsd.as_units('ms'))\n",
    "print(tsd.as_units('us'))"
   ]
  },
  {
   "cell_type": "markdown",
   "id": "6c67b9d9",
   "metadata": {},
   "source": [
    "If only timestamps are available, for example spike times, we can construct a Ts object which holds only times. In this case, we generate 10 random spike times between 0 and 100 ms."
   ]
  },
  {
   "cell_type": "code",
   "execution_count": 4,
   "id": "16ac634f",
   "metadata": {},
   "outputs": [
    {
     "name": "stdout",
     "output_type": "stream",
     "text": [
      "Time (s)\n",
      "0.011981   NaN\n",
      "0.018039   NaN\n",
      "0.021218   NaN\n",
      "0.042355   NaN\n",
      "0.059233   NaN\n",
      "0.062366   NaN\n",
      "0.069332   NaN\n",
      "0.073728   NaN\n",
      "0.091412   NaN\n",
      "0.093179   NaN\n",
      "dtype: float64\n"
     ]
    }
   ],
   "source": [
    "ts = nap.Ts(t = np.sort(np.random.uniform(0, 100, 10)), time_units = 'ms')\n",
    "\n",
    "print(ts)"
   ]
  },
  {
   "cell_type": "markdown",
   "id": "3954a05f",
   "metadata": {},
   "source": [
    "If the time series contains multiple columns, we can use a TsdFrame."
   ]
  },
  {
   "cell_type": "code",
   "execution_count": 5,
   "id": "15453f3f",
   "metadata": {},
   "outputs": [
    {
     "name": "stdout",
     "output_type": "stream",
     "text": [
      "                 a         b         c\n",
      "Time (s)                              \n",
      "0.0       0.070958  0.248339  0.678089\n",
      "1.0       0.807558  0.782743  0.895054\n",
      "2.0       0.659416  0.937503  0.516411\n",
      "3.0       0.852223  0.219005  0.194536\n",
      "4.0       0.170820  0.639453  0.818144\n",
      "...            ...       ...       ...\n",
      "95.0      0.565494  0.437288  0.370130\n",
      "96.0      0.904865  0.298250  0.590778\n",
      "97.0      0.697050  0.150686  0.462217\n",
      "98.0      0.040829  0.311084  0.668681\n",
      "99.0      0.150205  0.279965  0.883045\n",
      "\n",
      "[100 rows x 3 columns]\n"
     ]
    }
   ],
   "source": [
    "tsdframe = nap.TsdFrame(t = np.arange(100), d = np.random.rand(100,3), time_units = 's', columns = ['a', 'b', 'c'])\n",
    "\n",
    "print(tsdframe)"
   ]
  },
  {
   "cell_type": "markdown",
   "id": "6ae3af51",
   "metadata": {},
   "source": [
    "## Interval Sets object\n",
    "\n",
    "The [IntervalSet](https://peyrachelab.github.io/pynapple/core.interval_set/) object stores multiple epochs with a common time units. It can then be used to restrict time series to this particular set of epochs."
   ]
  },
  {
   "cell_type": "code",
   "execution_count": 6,
   "id": "7e1f9774",
   "metadata": {},
   "outputs": [
    {
     "name": "stdout",
     "output_type": "stream",
     "text": [
      "   start   end\n",
      "0    0.0   5.0\n",
      "1   10.0  15.0\n",
      "\n",
      "\n",
      "Time (s)\n",
      "1.0     0.184115\n",
      "2.0     0.745202\n",
      "3.0     0.041667\n",
      "4.0     0.844270\n",
      "5.0     0.670595\n",
      "11.0    0.844376\n",
      "12.0    0.920450\n",
      "13.0    0.042605\n",
      "14.0    0.662674\n",
      "15.0    0.001379\n",
      "dtype: float64\n"
     ]
    }
   ],
   "source": [
    "epochs = nap.IntervalSet(start = [0, 10], end = [5, 15], time_units = 's')\n",
    "\n",
    "new_tsd = tsd.restrict(epochs)\n",
    "\n",
    "print(epochs)\n",
    "print('\\n')\n",
    "print(new_tsd)"
   ]
  },
  {
   "cell_type": "markdown",
   "id": "75ec8da5",
   "metadata": {},
   "source": [
    "Multiple operations are available for IntervalSet. For example, IntervalSet can be merged. See the full documentation of the class [here](https://peyrachelab.github.io/pynapple/core.interval_set/#pynapple.core.interval_set.IntervalSet.intersect) for a list of all the functions that can be used to manipulate IntervalSets."
   ]
  },
  {
   "cell_type": "code",
   "execution_count": 7,
   "id": "cc574b46",
   "metadata": {},
   "outputs": [
    {
     "name": "stdout",
     "output_type": "stream",
     "text": [
      "   start      end\n",
      "0    0.0  0.00001 \n",
      "\n",
      "      start       end\n",
      "0  0.000005  0.000020\n",
      "1  0.000030  0.000045 \n",
      "\n",
      "     start       end\n",
      "0  0.00000  0.000020\n",
      "1  0.00003  0.000045\n"
     ]
    }
   ],
   "source": [
    "epoch1 = nap.IntervalSet(start=[0], end=[10]) # no time units passed. Default is us.\n",
    "epoch2 = nap.IntervalSet(start=[5,30],end=[20,45])\n",
    "\n",
    "epoch = epoch1.union(epoch2)\n",
    "print(epoch1, '\\n')\n",
    "print(epoch2, '\\n')\n",
    "print(epoch)"
   ]
  },
  {
   "cell_type": "markdown",
   "id": "78d7825c",
   "metadata": {},
   "source": [
    "## TsGroup\n",
    "\n",
    "Multiple time series with different time stamps (.i.e. a group of neurons with different spike times from one session) can be grouped with the TsGroup object. The TsGroup behaves like a dictionnary but it is also possible to slice with a list of indexes"
   ]
  },
  {
   "cell_type": "code",
   "execution_count": 8,
   "id": "1af22381",
   "metadata": {},
   "outputs": [
    {
     "name": "stdout",
     "output_type": "stream",
     "text": [
      "  Index    Freq. (Hz)\n",
      "-------  ------------\n",
      "      0         10.02\n",
      "      1         19.98\n",
      "      2         29.98 \n",
      "\n",
      "Time (s)\n",
      "0.432052    NaN\n",
      "0.529947    NaN\n",
      "0.601565    NaN\n",
      "0.774862    NaN\n",
      "0.799916    NaN\n",
      "             ..\n",
      "99.579318   NaN\n",
      "99.647440   NaN\n",
      "99.680493   NaN\n",
      "99.836327   NaN\n",
      "99.848397   NaN\n",
      "Length: 999, dtype: float64 \n",
      "\n",
      "  Index    Freq. (Hz)\n",
      "-------  ------------\n",
      "      0         10.02\n",
      "      2         29.98\n"
     ]
    }
   ],
   "source": [
    "my_ts = {0:nap.Ts(t = np.sort(np.random.uniform(0, 100, 1000)), time_units = 's'), # here a simple dictionnary\n",
    "         1:nap.Ts(t = np.sort(np.random.uniform(0, 100, 2000)), time_units = 's'),\n",
    "         2:nap.Ts(t = np.sort(np.random.uniform(0, 100, 3000)), time_units = 's')}\n",
    "\n",
    "tsgroup = nap.TsGroup(my_ts)\n",
    "\n",
    "print(tsgroup, '\\n')\n",
    "print(tsgroup[0], '\\n') # dictionnary like indexing returns directly the Ts object\n",
    "print(tsgroup[[0,2]]) # list like indexing"
   ]
  },
  {
   "cell_type": "markdown",
   "id": "b66aa481",
   "metadata": {},
   "source": [
    "Operations such as restrict can thus be directly applied to the TsGroup as well as other operations."
   ]
  },
  {
   "cell_type": "code",
   "execution_count": 9,
   "id": "6b83a840",
   "metadata": {},
   "outputs": [
    {
     "name": "stdout",
     "output_type": "stream",
     "text": [
      "           0   1   2\n",
      "Time (s)            \n",
      "0.5        6  13  31\n",
      "1.5        8  25  29\n",
      "2.5        7  26  22\n",
      "3.5       13  16  32\n",
      "4.5       14  20  32\n",
      "10.5       8  22  29\n",
      "11.5      10  21  27\n",
      "12.5       6  26  29\n",
      "13.5       9  18  45\n",
      "14.5      13  19  26\n"
     ]
    }
   ],
   "source": [
    "newtsgroup = tsgroup.restrict(epochs)\n",
    "\n",
    "count = tsgroup.count(1, epochs, time_units='s') # Here counting the elements within bins of 1 seconds\n",
    "\n",
    "print(count)"
   ]
  },
  {
   "cell_type": "markdown",
   "id": "b902a51c",
   "metadata": {},
   "source": [
    "One advantage of grouping time series is that metainformation can be added about each elements. In this case, we add labels to each Ts object when instantiating the group and after. We can then use this label to split the group. See the documentation about [TsGroup](https://peyrachelab.github.io/pynapple/core.ts_group/) for all the ways to split TsGroup."
   ]
  },
  {
   "cell_type": "code",
   "execution_count": 10,
   "id": "bf49504e",
   "metadata": {},
   "outputs": [
    {
     "name": "stdout",
     "output_type": "stream",
     "text": [
      "  Index    Freq. (Hz)    label1  label2\n",
      "-------  ------------  --------  --------\n",
      "      0         10.02         0  a\n",
      "      1         19.98         1  a\n",
      "      2         29.98         0  b \n",
      "\n",
      "  Index    Freq. (Hz)    label1  label2\n",
      "-------  ------------  --------  --------\n",
      "      0         10.02         0  a\n",
      "      2         29.98         0  b \n",
      "\n",
      "  Index    Freq. (Hz)    label1  label2\n",
      "-------  ------------  --------  --------\n",
      "      1         19.98         1  a\n"
     ]
    }
   ],
   "source": [
    "tsgroup = nap.TsGroup(my_ts, time_units = 's', label1=[0,1,0])\n",
    "tsgroup.set_info(label2=['a', 'a', 'b'])\n",
    "\n",
    "print(tsgroup, '\\n')\n",
    "\n",
    "newtsgroup= tsgroup.getby_category('label1')\n",
    "print(newtsgroup[0], '\\n')\n",
    "print(newtsgroup[1])\n"
   ]
  },
  {
   "cell_type": "markdown",
   "id": "dd8caa78",
   "metadata": {},
   "source": [
    "## Time support\n",
    "\n",
    "A key element of the manipulation of time series by pynapple is the inherent time support defined for Ts, Tsd, TsdFrame and TsGroup objects. The time support is defined as an IntervalSet that provides the time serie with a context. For example,, the restrict operation will update automatically the time support to the new time series. Ideally the time support should be defined for all time series when instantiating them. If no time series is given, the time support is inferred from the start and end of the time series. \n",
    "\n",
    "In this example, a TsGroup is instantiated with and without a time support. Notice how the frequency of each Ts element is changed when the time support is defined explicitely."
   ]
  },
  {
   "cell_type": "code",
   "execution_count": 11,
   "id": "4535cf64",
   "metadata": {},
   "outputs": [
    {
     "name": "stdout",
     "output_type": "stream",
     "text": [
      "  Index    Freq. (Hz)\n",
      "-------  ------------\n",
      "      0          0.14\n",
      "      1          0.16\n",
      "      2          0.36 \n",
      "\n",
      "  Index    Freq. (Hz)\n",
      "-------  ------------\n",
      "      0           0.1\n",
      "      1           0.2\n",
      "      2           0.3 \n",
      "\n",
      "   start    end\n",
      "0    0.0  100.0\n"
     ]
    }
   ],
   "source": [
    "time_support = nap.IntervalSet(start = 0, end = 100, time_units = 's')\n",
    "\n",
    "my_ts = {0:nap.Ts(t = np.sort(np.random.uniform(0, 100, 10)), time_units = 's'), # here a simple dictionnary\n",
    "         1:nap.Ts(t = np.sort(np.random.uniform(0, 100, 20)), time_units = 's'),\n",
    "         2:nap.Ts(t = np.sort(np.random.uniform(0, 100, 30)), time_units = 's')}\n",
    "\n",
    "tsgroup = nap.TsGroup(my_ts)\n",
    "\n",
    "tsgroup_with_time_support = nap.TsGroup(my_ts, time_support = time_support)\n",
    "\n",
    "print(tsgroup, '\\n')\n",
    "\n",
    "print(tsgroup_with_time_support, '\\n')\n",
    "\n",
    "print(tsgroup_with_time_support.time_support) # acceding the time support"
   ]
  }
 ],
 "metadata": {
  "kernelspec": {
   "display_name": "Python 3 (ipykernel)",
   "language": "python",
   "name": "python3"
  },
  "language_info": {
   "codemirror_mode": {
    "name": "ipython",
    "version": 3
   },
   "file_extension": ".py",
   "mimetype": "text/x-python",
   "name": "python",
   "nbconvert_exporter": "python",
   "pygments_lexer": "ipython3",
   "version": "3.8.12"
  }
 },
 "nbformat": 4,
 "nbformat_minor": 5
}
